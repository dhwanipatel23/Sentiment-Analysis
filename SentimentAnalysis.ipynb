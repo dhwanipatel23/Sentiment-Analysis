{
 "cells": [
  {
   "cell_type": "markdown",
   "id": "bdfb601a",
   "metadata": {},
   "source": [
    "# SENTIMENT ANALYSIS USING NLTK"
   ]
  },
  {
   "cell_type": "markdown",
   "id": "3bb10a35",
   "metadata": {},
   "source": [
    "## Importing Libraries:\n",
    "Here, we import the necessary libraries from NLTK. SentimentIntensityAnalyzer is used for sentiment analysis, word_tokenize for tokenizing the input text into words, and stopwords for removing common words that don't contribute much to sentiment."
   ]
  },
  {
   "cell_type": "code",
   "execution_count": 1,
   "id": "3f13e3c0",
   "metadata": {},
   "outputs": [],
   "source": [
    "import nltk\n",
    "from nltk.sentiment import SentimentIntensityAnalyzer\n",
    "from nltk.tokenize import word_tokenize\n",
    "from nltk.corpus import stopwords"
   ]
  },
  {
   "cell_type": "markdown",
   "id": "5a9b81ab",
   "metadata": {},
   "source": [
    "## Downloading NLTK Resources:\n",
    "We download the resources needed for sentiment analysis, including the VADER lexicon, which is a pre-built sentiment analysis lexicon used by SentimentIntensityAnalyzer."
   ]
  },
  {
   "cell_type": "code",
   "execution_count": 2,
   "id": "62152a0a",
   "metadata": {},
   "outputs": [
    {
     "name": "stderr",
     "output_type": "stream",
     "text": [
      "[nltk_data] Downloading package vader_lexicon to\n",
      "[nltk_data]     C:\\Users\\dhwan\\AppData\\Roaming\\nltk_data...\n",
      "[nltk_data] Downloading package punkt to\n",
      "[nltk_data]     C:\\Users\\dhwan\\AppData\\Roaming\\nltk_data...\n",
      "[nltk_data]   Unzipping tokenizers\\punkt.zip.\n",
      "[nltk_data] Downloading package stopwords to\n",
      "[nltk_data]     C:\\Users\\dhwan\\AppData\\Roaming\\nltk_data...\n",
      "[nltk_data]   Unzipping corpora\\stopwords.zip.\n"
     ]
    },
    {
     "data": {
      "text/plain": [
       "True"
      ]
     },
     "execution_count": 2,
     "metadata": {},
     "output_type": "execute_result"
    }
   ],
   "source": [
    "nltk.download('vader_lexicon')\n",
    "nltk.download('punkt')\n",
    "nltk.download('stopwords')"
   ]
  },
  {
   "cell_type": "markdown",
   "id": "c966d915",
   "metadata": {},
   "source": [
    "## Function for Sentiment Analysis:\n",
    "This function, analyze_sentiment, takes a text input, initializes the SentimentIntensityAnalyzer, calculates the compound sentiment score, and returns the sentiment as 'Positive,' 'Negative,' or 'Neutral' based on the score."
   ]
  },
  {
   "cell_type": "code",
   "execution_count": 3,
   "id": "68cb64f5",
   "metadata": {},
   "outputs": [],
   "source": [
    "def analyze_sentiment(text):\n",
    "    sia = SentimentIntensityAnalyzer()\n",
    "    compound_score = sia.polarity_scores(text)['compound']\n",
    "    \n",
    "    if compound_score >= 0.05:\n",
    "        return 'Positive'\n",
    "    elif compound_score <= -0.05:\n",
    "        return 'Negative'\n",
    "    else:\n",
    "        return 'Neutral'"
   ]
  },
  {
   "cell_type": "markdown",
   "id": "0fb0ce68",
   "metadata": {},
   "source": [
    "## Example Run:"
   ]
  },
  {
   "cell_type": "code",
   "execution_count": 9,
   "id": "79e5a187",
   "metadata": {},
   "outputs": [
    {
     "name": "stdout",
     "output_type": "stream",
     "text": [
      "Sentiment: Neutral\n"
     ]
    }
   ],
   "source": [
    "if __name__ == \"__main__\":\n",
    "    sample_text = \"It's average!\"\n",
    "    sentiment = analyze_sentiment(sample_text)\n",
    "    print(f\"Sentiment: {sentiment}\")"
   ]
  },
  {
   "cell_type": "code",
   "execution_count": null,
   "id": "c8d415f5",
   "metadata": {},
   "outputs": [],
   "source": []
  }
 ],
 "metadata": {
  "kernelspec": {
   "display_name": "Python 3 (ipykernel)",
   "language": "python",
   "name": "python3"
  },
  "language_info": {
   "codemirror_mode": {
    "name": "ipython",
    "version": 3
   },
   "file_extension": ".py",
   "mimetype": "text/x-python",
   "name": "python",
   "nbconvert_exporter": "python",
   "pygments_lexer": "ipython3",
   "version": "3.9.7"
  }
 },
 "nbformat": 4,
 "nbformat_minor": 5
}
